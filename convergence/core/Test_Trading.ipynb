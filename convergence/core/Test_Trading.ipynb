{
 "cells": [
  {
   "cell_type": "code",
   "execution_count": 2,
   "metadata": {},
   "outputs": [
    {
     "name": "stderr",
     "output_type": "stream",
     "text": [
      "2023-01-19 21:00:08.237574: I tensorflow/core/platform/cpu_feature_guard.cc:151] This TensorFlow binary is optimized with oneAPI Deep Neural Network Library (oneDNN) to use the following CPU instructions in performance-critical operations:  AVX2 FMA\n",
      "To enable them in other operations, rebuild TensorFlow with the appropriate compiler flags.\n"
     ]
    }
   ],
   "source": [
    "import ccxt\n",
    "import joblib\n",
    "import time\n",
    "import numpy as np\n",
    "import pandas as pd\n",
    "import sys\n",
    "from keras.models import load_model\n",
    "from datetime import datetime\n",
    "sys.path.append(\"/Users/yuhyeonseog/COBOK/COBOK/convergence/indicator\")\n",
    "from DATA_INDICATORS import *\n",
    "def download_data(frame):\n",
    "  binance = ccxt.binance()\n",
    "  btc_ohlcv = binance.fetch_ohlcv(\"BTC/USDT\",limit = 500,timeframe=frame)\n",
    "  df = pd.DataFrame(btc_ohlcv, columns=['datetime', 'open', 'high', 'low', 'close', 'volume'])\n",
    "  df['datetime'] = pd.to_datetime(df['datetime'], unit='ms')\n",
    "  df.set_index('datetime', inplace=True)\n",
    "  return df\n",
    "\n",
    "model = load_model(\"../model/keras_DNN_modelV2\")\n",
    "trade_history = []\n",
    "api_key = \"598lqCWX727NXfflVt1qejRSZXphSuWVlcdMm1gdtAVD3lytdDhjpbV3eyxcr0z1\"\n",
    "secret  = \"XxDx9DuVDiYngMV71jWHHCFYRhhph4bdZdGCSH4JVb2s2jCJtHW6gbpPwZWjfYvf\"\n",
    "\n",
    "binance = ccxt.binance(config={\n",
    "    'apiKey': api_key, \n",
    "    'secret': secret,\n",
    "    'enableRateLimit': True,\n",
    "    'options': {\n",
    "        'defaultType': 'future'\n",
    "    }\n",
    "})\n",
    "# # 레버리지 변경\n",
    "# markets = binance.load_markets()\n",
    "# symbol = \"BTC/USDT\"\n",
    "# market = binance.market(symbol)\n",
    "# leverage = 10\n",
    "\n",
    "# resp = binance.fapiPrivate_post_leverage({\n",
    "#     'symbol': market['id'],\n",
    "#     'leverage': leverage\n",
    "# })"
   ]
  },
  {
   "cell_type": "code",
   "execution_count": 77,
   "metadata": {},
   "outputs": [
    {
     "name": "stdout",
     "output_type": "stream",
     "text": [
      "==============================================\n",
      "현재 time: 2023-01-05 04:47:00\n",
      "현재 코인 가격 : 16835.2\n",
      "현재 보유 수량 : 0.000\n",
      "현재 평단가 : 0.0\n",
      "현재 적용 레버리지 : 10\n",
      "현재 포지션 수익률 : 1000.0 %\n",
      "현재 포지션 수익(달러) : 0.0 $\n",
      "매수매도 시그널(1:매수, 0:매도, -1:관망) : -1\n",
      "토탈 수익: 0\n",
      "[0.29809093]\n",
      "==============================================\n",
      "현재 time: 2023-01-05 04:47:07\n"
     ]
    },
    {
     "ename": "KeyboardInterrupt",
     "evalue": "",
     "output_type": "error",
     "traceback": [
      "\u001b[0;31m---------------------------------------------------------------------------\u001b[0m",
      "\u001b[0;31mKeyboardInterrupt\u001b[0m                         Traceback (most recent call last)",
      "\u001b[1;32m/Users/yuhyeonseog/COBOK/COBOK/convergence/core/Untitled-2.ipynb 셀 2\u001b[0m in \u001b[0;36m<cell line: 125>\u001b[0;34m()\u001b[0m\n\u001b[1;32m    <a href='vscode-notebook-cell:/Users/yuhyeonseog/COBOK/COBOK/convergence/core/Untitled-2.ipynb#W1sZmlsZQ%3D%3D?line=122'>123</a>\u001b[0m     \u001b[39mprint\u001b[39m(pred[\u001b[39m-\u001b[39m\u001b[39m1\u001b[39m])\n\u001b[1;32m    <a href='vscode-notebook-cell:/Users/yuhyeonseog/COBOK/COBOK/convergence/core/Untitled-2.ipynb#W1sZmlsZQ%3D%3D?line=123'>124</a>\u001b[0m     time\u001b[39m.\u001b[39msleep(\u001b[39m5\u001b[39m)\n\u001b[0;32m--> <a href='vscode-notebook-cell:/Users/yuhyeonseog/COBOK/COBOK/convergence/core/Untitled-2.ipynb#W1sZmlsZQ%3D%3D?line=124'>125</a>\u001b[0m trade()\n",
      "\u001b[1;32m/Users/yuhyeonseog/COBOK/COBOK/convergence/core/Untitled-2.ipynb 셀 2\u001b[0m in \u001b[0;36mtrade\u001b[0;34m()\u001b[0m\n\u001b[1;32m    <a href='vscode-notebook-cell:/Users/yuhyeonseog/COBOK/COBOK/convergence/core/Untitled-2.ipynb#W1sZmlsZQ%3D%3D?line=117'>118</a>\u001b[0m \u001b[39mprint\u001b[39m(\u001b[39m\"\u001b[39m\u001b[39m==============================================\u001b[39m\u001b[39m\"\u001b[39m)\n\u001b[1;32m    <a href='vscode-notebook-cell:/Users/yuhyeonseog/COBOK/COBOK/convergence/core/Untitled-2.ipynb#W1sZmlsZQ%3D%3D?line=118'>119</a>\u001b[0m \u001b[39mprint\u001b[39m(\u001b[39m\"\u001b[39m\u001b[39m현재 time:\u001b[39m\u001b[39m\"\u001b[39m,now\u001b[39m.\u001b[39mstrftime(\u001b[39m'\u001b[39m\u001b[39m%\u001b[39m\u001b[39mY-\u001b[39m\u001b[39m%\u001b[39m\u001b[39mm-\u001b[39m\u001b[39m%d\u001b[39;00m\u001b[39m \u001b[39m\u001b[39m%\u001b[39m\u001b[39mH:\u001b[39m\u001b[39m%\u001b[39m\u001b[39mM:\u001b[39m\u001b[39m%\u001b[39m\u001b[39mS\u001b[39m\u001b[39m'\u001b[39m))\n\u001b[0;32m--> <a href='vscode-notebook-cell:/Users/yuhyeonseog/COBOK/COBOK/convergence/core/Untitled-2.ipynb#W1sZmlsZQ%3D%3D?line=119'>120</a>\u001b[0m info()\n\u001b[1;32m    <a href='vscode-notebook-cell:/Users/yuhyeonseog/COBOK/COBOK/convergence/core/Untitled-2.ipynb#W1sZmlsZQ%3D%3D?line=120'>121</a>\u001b[0m \u001b[39mprint\u001b[39m(\u001b[39m\"\u001b[39m\u001b[39m매수매도 시그널(1:매수, 0:매도, -1:관망) :\u001b[39m\u001b[39m\"\u001b[39m,Trading_Flag)\n\u001b[1;32m    <a href='vscode-notebook-cell:/Users/yuhyeonseog/COBOK/COBOK/convergence/core/Untitled-2.ipynb#W1sZmlsZQ%3D%3D?line=121'>122</a>\u001b[0m \u001b[39mprint\u001b[39m(\u001b[39m\"\u001b[39m\u001b[39m토탈 수익:\u001b[39m\u001b[39m\"\u001b[39m,Account[\u001b[39m\"\u001b[39m\u001b[39mresult\u001b[39m\u001b[39m\"\u001b[39m])\n",
      "\u001b[1;32m/Users/yuhyeonseog/COBOK/COBOK/convergence/core/Untitled-2.ipynb 셀 2\u001b[0m in \u001b[0;36minfo\u001b[0;34m()\u001b[0m\n\u001b[1;32m     <a href='vscode-notebook-cell:/Users/yuhyeonseog/COBOK/COBOK/convergence/core/Untitled-2.ipynb#W1sZmlsZQ%3D%3D?line=19'>20</a>\u001b[0m \u001b[39mdef\u001b[39;00m \u001b[39minfo\u001b[39m():\n\u001b[0;32m---> <a href='vscode-notebook-cell:/Users/yuhyeonseog/COBOK/COBOK/convergence/core/Untitled-2.ipynb#W1sZmlsZQ%3D%3D?line=20'>21</a>\u001b[0m   balance \u001b[39m=\u001b[39m binance\u001b[39m.\u001b[39;49mfetch_balance(params\u001b[39m=\u001b[39;49m{\u001b[39m\"\u001b[39;49m\u001b[39mtype\u001b[39;49m\u001b[39m\"\u001b[39;49m: \u001b[39m\"\u001b[39;49m\u001b[39mfuture\u001b[39;49m\u001b[39m\"\u001b[39;49m})\n\u001b[1;32m     <a href='vscode-notebook-cell:/Users/yuhyeonseog/COBOK/COBOK/convergence/core/Untitled-2.ipynb#W1sZmlsZQ%3D%3D?line=21'>22</a>\u001b[0m   Now_price \u001b[39m=\u001b[39m binance\u001b[39m.\u001b[39mfetch_ticker(\u001b[39m\"\u001b[39m\u001b[39mBTC/USDT\u001b[39m\u001b[39m\"\u001b[39m)[\u001b[39m\"\u001b[39m\u001b[39mclose\u001b[39m\u001b[39m\"\u001b[39m]\n\u001b[1;32m     <a href='vscode-notebook-cell:/Users/yuhyeonseog/COBOK/COBOK/convergence/core/Untitled-2.ipynb#W1sZmlsZQ%3D%3D?line=22'>23</a>\u001b[0m   positions \u001b[39m=\u001b[39m balance[\u001b[39m'\u001b[39m\u001b[39minfo\u001b[39m\u001b[39m'\u001b[39m][\u001b[39m'\u001b[39m\u001b[39mpositions\u001b[39m\u001b[39m'\u001b[39m]\n",
      "File \u001b[0;32m/Library/Frameworks/Python.framework/Versions/3.10/lib/python3.10/site-packages/ccxt/binance.py:1724\u001b[0m, in \u001b[0;36mbinance.fetch_balance\u001b[0;34m(self, params)\u001b[0m\n\u001b[1;32m   1722\u001b[0m     method \u001b[39m=\u001b[39m \u001b[39m'\u001b[39m\u001b[39msapiPostAssetGetFundingAsset\u001b[39m\u001b[39m'\u001b[39m\n\u001b[1;32m   1723\u001b[0m query \u001b[39m=\u001b[39m \u001b[39mself\u001b[39m\u001b[39m.\u001b[39momit(params, \u001b[39m'\u001b[39m\u001b[39mtype\u001b[39m\u001b[39m'\u001b[39m)\n\u001b[0;32m-> 1724\u001b[0m response \u001b[39m=\u001b[39m \u001b[39mgetattr\u001b[39;49m(\u001b[39mself\u001b[39;49m, method)(query)\n\u001b[1;32m   1725\u001b[0m \u001b[39m#\u001b[39;00m\n\u001b[1;32m   1726\u001b[0m \u001b[39m# spot\u001b[39;00m\n\u001b[1;32m   1727\u001b[0m \u001b[39m#\u001b[39;00m\n\u001b[0;32m   (...)\u001b[0m\n\u001b[1;32m   1904\u001b[0m \u001b[39m#     ]\u001b[39;00m\n\u001b[1;32m   1905\u001b[0m \u001b[39m#\u001b[39;00m\n\u001b[1;32m   1906\u001b[0m \u001b[39mreturn\u001b[39;00m \u001b[39mself\u001b[39m\u001b[39m.\u001b[39mparse_balance(response, \u001b[39mtype\u001b[39m)\n",
      "File \u001b[0;32m/Library/Frameworks/Python.framework/Versions/3.10/lib/python3.10/site-packages/ccxt/base/exchange.py:503\u001b[0m, in \u001b[0;36mExchange.define_rest_api_endpoint.<locals>.partialer.<locals>.inner\u001b[0;34m(_self, params, context)\u001b[0m\n\u001b[1;32m    501\u001b[0m \u001b[39mif\u001b[39;00m context \u001b[39mis\u001b[39;00m \u001b[39mnot\u001b[39;00m \u001b[39mNone\u001b[39;00m:\n\u001b[1;32m    502\u001b[0m     inner_kwargs[\u001b[39m'\u001b[39m\u001b[39mcontext\u001b[39m\u001b[39m'\u001b[39m] \u001b[39m=\u001b[39m params\n\u001b[0;32m--> 503\u001b[0m \u001b[39mreturn\u001b[39;00m entry(_self, \u001b[39m*\u001b[39;49m\u001b[39m*\u001b[39;49minner_kwargs)\n",
      "File \u001b[0;32m/Library/Frameworks/Python.framework/Versions/3.10/lib/python3.10/site-packages/ccxt/binance.py:4988\u001b[0m, in \u001b[0;36mbinance.request\u001b[0;34m(self, path, api, method, params, headers, body, config, context)\u001b[0m\n\u001b[1;32m   4987\u001b[0m \u001b[39mdef\u001b[39;00m \u001b[39mrequest\u001b[39m(\u001b[39mself\u001b[39m, path, api\u001b[39m=\u001b[39m\u001b[39m'\u001b[39m\u001b[39mpublic\u001b[39m\u001b[39m'\u001b[39m, method\u001b[39m=\u001b[39m\u001b[39m'\u001b[39m\u001b[39mGET\u001b[39m\u001b[39m'\u001b[39m, params\u001b[39m=\u001b[39m{}, headers\u001b[39m=\u001b[39m\u001b[39mNone\u001b[39;00m, body\u001b[39m=\u001b[39m\u001b[39mNone\u001b[39;00m, config\u001b[39m=\u001b[39m{}, context\u001b[39m=\u001b[39m{}):\n\u001b[0;32m-> 4988\u001b[0m     response \u001b[39m=\u001b[39m \u001b[39mself\u001b[39;49m\u001b[39m.\u001b[39;49mfetch2(path, api, method, params, headers, body, config, context)\n\u001b[1;32m   4989\u001b[0m     \u001b[39m# a workaround for {\"code\":-2015,\"msg\":\"Invalid API-key, IP, or permissions for action.\"}\u001b[39;00m\n\u001b[1;32m   4990\u001b[0m     \u001b[39mif\u001b[39;00m (api \u001b[39m==\u001b[39m \u001b[39m'\u001b[39m\u001b[39mprivate\u001b[39m\u001b[39m'\u001b[39m) \u001b[39mor\u001b[39;00m (api \u001b[39m==\u001b[39m \u001b[39m'\u001b[39m\u001b[39mwapi\u001b[39m\u001b[39m'\u001b[39m):\n",
      "File \u001b[0;32m/Library/Frameworks/Python.framework/Versions/3.10/lib/python3.10/site-packages/ccxt/base/exchange.py:550\u001b[0m, in \u001b[0;36mExchange.fetch2\u001b[0;34m(self, path, api, method, params, headers, body, config, context)\u001b[0m\n\u001b[1;32m    548\u001b[0m \u001b[39mself\u001b[39m\u001b[39m.\u001b[39mlastRestRequestTimestamp \u001b[39m=\u001b[39m \u001b[39mself\u001b[39m\u001b[39m.\u001b[39mmilliseconds()\n\u001b[1;32m    549\u001b[0m request \u001b[39m=\u001b[39m \u001b[39mself\u001b[39m\u001b[39m.\u001b[39msign(path, api, method, params, headers, body)\n\u001b[0;32m--> 550\u001b[0m \u001b[39mreturn\u001b[39;00m \u001b[39mself\u001b[39;49m\u001b[39m.\u001b[39;49mfetch(request[\u001b[39m'\u001b[39;49m\u001b[39murl\u001b[39;49m\u001b[39m'\u001b[39;49m], request[\u001b[39m'\u001b[39;49m\u001b[39mmethod\u001b[39;49m\u001b[39m'\u001b[39;49m], request[\u001b[39m'\u001b[39;49m\u001b[39mheaders\u001b[39;49m\u001b[39m'\u001b[39;49m], request[\u001b[39m'\u001b[39;49m\u001b[39mbody\u001b[39;49m\u001b[39m'\u001b[39;49m])\n",
      "File \u001b[0;32m/Library/Frameworks/Python.framework/Versions/3.10/lib/python3.10/site-packages/ccxt/base/exchange.py:635\u001b[0m, in \u001b[0;36mExchange.fetch\u001b[0;34m(self, url, method, headers, body)\u001b[0m\n\u001b[1;32m    633\u001b[0m json_response \u001b[39m=\u001b[39m \u001b[39mNone\u001b[39;00m\n\u001b[1;32m    634\u001b[0m \u001b[39mtry\u001b[39;00m:\n\u001b[0;32m--> 635\u001b[0m     response \u001b[39m=\u001b[39m \u001b[39mself\u001b[39;49m\u001b[39m.\u001b[39;49msession\u001b[39m.\u001b[39;49mrequest(\n\u001b[1;32m    636\u001b[0m         method,\n\u001b[1;32m    637\u001b[0m         url,\n\u001b[1;32m    638\u001b[0m         data\u001b[39m=\u001b[39;49mbody,\n\u001b[1;32m    639\u001b[0m         headers\u001b[39m=\u001b[39;49mrequest_headers,\n\u001b[1;32m    640\u001b[0m         timeout\u001b[39m=\u001b[39;49m\u001b[39mint\u001b[39;49m(\u001b[39mself\u001b[39;49m\u001b[39m.\u001b[39;49mtimeout \u001b[39m/\u001b[39;49m \u001b[39m1000\u001b[39;49m),\n\u001b[1;32m    641\u001b[0m         proxies\u001b[39m=\u001b[39;49m\u001b[39mself\u001b[39;49m\u001b[39m.\u001b[39;49mproxies,\n\u001b[1;32m    642\u001b[0m         verify\u001b[39m=\u001b[39;49m\u001b[39mself\u001b[39;49m\u001b[39m.\u001b[39;49mverify\n\u001b[1;32m    643\u001b[0m     )\n\u001b[1;32m    644\u001b[0m     \u001b[39m# does not try to detect encoding\u001b[39;00m\n\u001b[1;32m    645\u001b[0m     response\u001b[39m.\u001b[39mencoding \u001b[39m=\u001b[39m \u001b[39m'\u001b[39m\u001b[39mutf-8\u001b[39m\u001b[39m'\u001b[39m\n",
      "File \u001b[0;32m/Library/Frameworks/Python.framework/Versions/3.10/lib/python3.10/site-packages/requests/sessions.py:542\u001b[0m, in \u001b[0;36mSession.request\u001b[0;34m(self, method, url, params, data, headers, cookies, files, auth, timeout, allow_redirects, proxies, hooks, stream, verify, cert, json)\u001b[0m\n\u001b[1;32m    537\u001b[0m send_kwargs \u001b[39m=\u001b[39m {\n\u001b[1;32m    538\u001b[0m     \u001b[39m'\u001b[39m\u001b[39mtimeout\u001b[39m\u001b[39m'\u001b[39m: timeout,\n\u001b[1;32m    539\u001b[0m     \u001b[39m'\u001b[39m\u001b[39mallow_redirects\u001b[39m\u001b[39m'\u001b[39m: allow_redirects,\n\u001b[1;32m    540\u001b[0m }\n\u001b[1;32m    541\u001b[0m send_kwargs\u001b[39m.\u001b[39mupdate(settings)\n\u001b[0;32m--> 542\u001b[0m resp \u001b[39m=\u001b[39m \u001b[39mself\u001b[39;49m\u001b[39m.\u001b[39;49msend(prep, \u001b[39m*\u001b[39;49m\u001b[39m*\u001b[39;49msend_kwargs)\n\u001b[1;32m    544\u001b[0m \u001b[39mreturn\u001b[39;00m resp\n",
      "File \u001b[0;32m/Library/Frameworks/Python.framework/Versions/3.10/lib/python3.10/site-packages/requests/sessions.py:655\u001b[0m, in \u001b[0;36mSession.send\u001b[0;34m(self, request, **kwargs)\u001b[0m\n\u001b[1;32m    652\u001b[0m start \u001b[39m=\u001b[39m preferred_clock()\n\u001b[1;32m    654\u001b[0m \u001b[39m# Send the request\u001b[39;00m\n\u001b[0;32m--> 655\u001b[0m r \u001b[39m=\u001b[39m adapter\u001b[39m.\u001b[39;49msend(request, \u001b[39m*\u001b[39;49m\u001b[39m*\u001b[39;49mkwargs)\n\u001b[1;32m    657\u001b[0m \u001b[39m# Total elapsed time of the request (approximately)\u001b[39;00m\n\u001b[1;32m    658\u001b[0m elapsed \u001b[39m=\u001b[39m preferred_clock() \u001b[39m-\u001b[39m start\n",
      "File \u001b[0;32m/Library/Frameworks/Python.framework/Versions/3.10/lib/python3.10/site-packages/requests/adapters.py:439\u001b[0m, in \u001b[0;36mHTTPAdapter.send\u001b[0;34m(self, request, stream, timeout, verify, cert, proxies)\u001b[0m\n\u001b[1;32m    437\u001b[0m \u001b[39mtry\u001b[39;00m:\n\u001b[1;32m    438\u001b[0m     \u001b[39mif\u001b[39;00m \u001b[39mnot\u001b[39;00m chunked:\n\u001b[0;32m--> 439\u001b[0m         resp \u001b[39m=\u001b[39m conn\u001b[39m.\u001b[39;49murlopen(\n\u001b[1;32m    440\u001b[0m             method\u001b[39m=\u001b[39;49mrequest\u001b[39m.\u001b[39;49mmethod,\n\u001b[1;32m    441\u001b[0m             url\u001b[39m=\u001b[39;49murl,\n\u001b[1;32m    442\u001b[0m             body\u001b[39m=\u001b[39;49mrequest\u001b[39m.\u001b[39;49mbody,\n\u001b[1;32m    443\u001b[0m             headers\u001b[39m=\u001b[39;49mrequest\u001b[39m.\u001b[39;49mheaders,\n\u001b[1;32m    444\u001b[0m             redirect\u001b[39m=\u001b[39;49m\u001b[39mFalse\u001b[39;49;00m,\n\u001b[1;32m    445\u001b[0m             assert_same_host\u001b[39m=\u001b[39;49m\u001b[39mFalse\u001b[39;49;00m,\n\u001b[1;32m    446\u001b[0m             preload_content\u001b[39m=\u001b[39;49m\u001b[39mFalse\u001b[39;49;00m,\n\u001b[1;32m    447\u001b[0m             decode_content\u001b[39m=\u001b[39;49m\u001b[39mFalse\u001b[39;49;00m,\n\u001b[1;32m    448\u001b[0m             retries\u001b[39m=\u001b[39;49m\u001b[39mself\u001b[39;49m\u001b[39m.\u001b[39;49mmax_retries,\n\u001b[1;32m    449\u001b[0m             timeout\u001b[39m=\u001b[39;49mtimeout\n\u001b[1;32m    450\u001b[0m         )\n\u001b[1;32m    452\u001b[0m     \u001b[39m# Send the request.\u001b[39;00m\n\u001b[1;32m    453\u001b[0m     \u001b[39melse\u001b[39;00m:\n\u001b[1;32m    454\u001b[0m         \u001b[39mif\u001b[39;00m \u001b[39mhasattr\u001b[39m(conn, \u001b[39m'\u001b[39m\u001b[39mproxy_pool\u001b[39m\u001b[39m'\u001b[39m):\n",
      "File \u001b[0;32m/Library/Frameworks/Python.framework/Versions/3.10/lib/python3.10/site-packages/urllib3/connectionpool.py:699\u001b[0m, in \u001b[0;36mHTTPConnectionPool.urlopen\u001b[0;34m(self, method, url, body, headers, retries, redirect, assert_same_host, timeout, pool_timeout, release_conn, chunked, body_pos, **response_kw)\u001b[0m\n\u001b[1;32m    696\u001b[0m     \u001b[39mself\u001b[39m\u001b[39m.\u001b[39m_prepare_proxy(conn)\n\u001b[1;32m    698\u001b[0m \u001b[39m# Make the request on the httplib connection object.\u001b[39;00m\n\u001b[0;32m--> 699\u001b[0m httplib_response \u001b[39m=\u001b[39m \u001b[39mself\u001b[39;49m\u001b[39m.\u001b[39;49m_make_request(\n\u001b[1;32m    700\u001b[0m     conn,\n\u001b[1;32m    701\u001b[0m     method,\n\u001b[1;32m    702\u001b[0m     url,\n\u001b[1;32m    703\u001b[0m     timeout\u001b[39m=\u001b[39;49mtimeout_obj,\n\u001b[1;32m    704\u001b[0m     body\u001b[39m=\u001b[39;49mbody,\n\u001b[1;32m    705\u001b[0m     headers\u001b[39m=\u001b[39;49mheaders,\n\u001b[1;32m    706\u001b[0m     chunked\u001b[39m=\u001b[39;49mchunked,\n\u001b[1;32m    707\u001b[0m )\n\u001b[1;32m    709\u001b[0m \u001b[39m# If we're going to release the connection in ``finally:``, then\u001b[39;00m\n\u001b[1;32m    710\u001b[0m \u001b[39m# the response doesn't need to know about the connection. Otherwise\u001b[39;00m\n\u001b[1;32m    711\u001b[0m \u001b[39m# it will also try to release it and we'll have a double-release\u001b[39;00m\n\u001b[1;32m    712\u001b[0m \u001b[39m# mess.\u001b[39;00m\n\u001b[1;32m    713\u001b[0m response_conn \u001b[39m=\u001b[39m conn \u001b[39mif\u001b[39;00m \u001b[39mnot\u001b[39;00m release_conn \u001b[39melse\u001b[39;00m \u001b[39mNone\u001b[39;00m\n",
      "File \u001b[0;32m/Library/Frameworks/Python.framework/Versions/3.10/lib/python3.10/site-packages/urllib3/connectionpool.py:445\u001b[0m, in \u001b[0;36mHTTPConnectionPool._make_request\u001b[0;34m(self, conn, method, url, timeout, chunked, **httplib_request_kw)\u001b[0m\n\u001b[1;32m    440\u001b[0m             httplib_response \u001b[39m=\u001b[39m conn\u001b[39m.\u001b[39mgetresponse()\n\u001b[1;32m    441\u001b[0m         \u001b[39mexcept\u001b[39;00m \u001b[39mBaseException\u001b[39;00m \u001b[39mas\u001b[39;00m e:\n\u001b[1;32m    442\u001b[0m             \u001b[39m# Remove the TypeError from the exception chain in\u001b[39;00m\n\u001b[1;32m    443\u001b[0m             \u001b[39m# Python 3 (including for exceptions like SystemExit).\u001b[39;00m\n\u001b[1;32m    444\u001b[0m             \u001b[39m# Otherwise it looks like a bug in the code.\u001b[39;00m\n\u001b[0;32m--> 445\u001b[0m             six\u001b[39m.\u001b[39;49mraise_from(e, \u001b[39mNone\u001b[39;49;00m)\n\u001b[1;32m    446\u001b[0m \u001b[39mexcept\u001b[39;00m (SocketTimeout, BaseSSLError, SocketError) \u001b[39mas\u001b[39;00m e:\n\u001b[1;32m    447\u001b[0m     \u001b[39mself\u001b[39m\u001b[39m.\u001b[39m_raise_timeout(err\u001b[39m=\u001b[39me, url\u001b[39m=\u001b[39murl, timeout_value\u001b[39m=\u001b[39mread_timeout)\n",
      "File \u001b[0;32m<string>:3\u001b[0m, in \u001b[0;36mraise_from\u001b[0;34m(value, from_value)\u001b[0m\n",
      "File \u001b[0;32m/Library/Frameworks/Python.framework/Versions/3.10/lib/python3.10/site-packages/urllib3/connectionpool.py:440\u001b[0m, in \u001b[0;36mHTTPConnectionPool._make_request\u001b[0;34m(self, conn, method, url, timeout, chunked, **httplib_request_kw)\u001b[0m\n\u001b[1;32m    437\u001b[0m \u001b[39mexcept\u001b[39;00m \u001b[39mTypeError\u001b[39;00m:\n\u001b[1;32m    438\u001b[0m     \u001b[39m# Python 3\u001b[39;00m\n\u001b[1;32m    439\u001b[0m     \u001b[39mtry\u001b[39;00m:\n\u001b[0;32m--> 440\u001b[0m         httplib_response \u001b[39m=\u001b[39m conn\u001b[39m.\u001b[39;49mgetresponse()\n\u001b[1;32m    441\u001b[0m     \u001b[39mexcept\u001b[39;00m \u001b[39mBaseException\u001b[39;00m \u001b[39mas\u001b[39;00m e:\n\u001b[1;32m    442\u001b[0m         \u001b[39m# Remove the TypeError from the exception chain in\u001b[39;00m\n\u001b[1;32m    443\u001b[0m         \u001b[39m# Python 3 (including for exceptions like SystemExit).\u001b[39;00m\n\u001b[1;32m    444\u001b[0m         \u001b[39m# Otherwise it looks like a bug in the code.\u001b[39;00m\n\u001b[1;32m    445\u001b[0m         six\u001b[39m.\u001b[39mraise_from(e, \u001b[39mNone\u001b[39;00m)\n",
      "File \u001b[0;32m/Library/Frameworks/Python.framework/Versions/3.10/lib/python3.10/http/client.py:1368\u001b[0m, in \u001b[0;36mHTTPConnection.getresponse\u001b[0;34m(self)\u001b[0m\n\u001b[1;32m   1366\u001b[0m \u001b[39mtry\u001b[39;00m:\n\u001b[1;32m   1367\u001b[0m     \u001b[39mtry\u001b[39;00m:\n\u001b[0;32m-> 1368\u001b[0m         response\u001b[39m.\u001b[39;49mbegin()\n\u001b[1;32m   1369\u001b[0m     \u001b[39mexcept\u001b[39;00m \u001b[39mConnectionError\u001b[39;00m:\n\u001b[1;32m   1370\u001b[0m         \u001b[39mself\u001b[39m\u001b[39m.\u001b[39mclose()\n",
      "File \u001b[0;32m/Library/Frameworks/Python.framework/Versions/3.10/lib/python3.10/http/client.py:317\u001b[0m, in \u001b[0;36mHTTPResponse.begin\u001b[0;34m(self)\u001b[0m\n\u001b[1;32m    315\u001b[0m \u001b[39m# read until we get a non-100 response\u001b[39;00m\n\u001b[1;32m    316\u001b[0m \u001b[39mwhile\u001b[39;00m \u001b[39mTrue\u001b[39;00m:\n\u001b[0;32m--> 317\u001b[0m     version, status, reason \u001b[39m=\u001b[39m \u001b[39mself\u001b[39;49m\u001b[39m.\u001b[39;49m_read_status()\n\u001b[1;32m    318\u001b[0m     \u001b[39mif\u001b[39;00m status \u001b[39m!=\u001b[39m CONTINUE:\n\u001b[1;32m    319\u001b[0m         \u001b[39mbreak\u001b[39;00m\n",
      "File \u001b[0;32m/Library/Frameworks/Python.framework/Versions/3.10/lib/python3.10/http/client.py:278\u001b[0m, in \u001b[0;36mHTTPResponse._read_status\u001b[0;34m(self)\u001b[0m\n\u001b[1;32m    277\u001b[0m \u001b[39mdef\u001b[39;00m \u001b[39m_read_status\u001b[39m(\u001b[39mself\u001b[39m):\n\u001b[0;32m--> 278\u001b[0m     line \u001b[39m=\u001b[39m \u001b[39mstr\u001b[39m(\u001b[39mself\u001b[39;49m\u001b[39m.\u001b[39;49mfp\u001b[39m.\u001b[39;49mreadline(_MAXLINE \u001b[39m+\u001b[39;49m \u001b[39m1\u001b[39;49m), \u001b[39m\"\u001b[39m\u001b[39miso-8859-1\u001b[39m\u001b[39m\"\u001b[39m)\n\u001b[1;32m    279\u001b[0m     \u001b[39mif\u001b[39;00m \u001b[39mlen\u001b[39m(line) \u001b[39m>\u001b[39m _MAXLINE:\n\u001b[1;32m    280\u001b[0m         \u001b[39mraise\u001b[39;00m LineTooLong(\u001b[39m\"\u001b[39m\u001b[39mstatus line\u001b[39m\u001b[39m\"\u001b[39m)\n",
      "File \u001b[0;32m/Library/Frameworks/Python.framework/Versions/3.10/lib/python3.10/socket.py:705\u001b[0m, in \u001b[0;36mSocketIO.readinto\u001b[0;34m(self, b)\u001b[0m\n\u001b[1;32m    703\u001b[0m \u001b[39mwhile\u001b[39;00m \u001b[39mTrue\u001b[39;00m:\n\u001b[1;32m    704\u001b[0m     \u001b[39mtry\u001b[39;00m:\n\u001b[0;32m--> 705\u001b[0m         \u001b[39mreturn\u001b[39;00m \u001b[39mself\u001b[39;49m\u001b[39m.\u001b[39;49m_sock\u001b[39m.\u001b[39;49mrecv_into(b)\n\u001b[1;32m    706\u001b[0m     \u001b[39mexcept\u001b[39;00m timeout:\n\u001b[1;32m    707\u001b[0m         \u001b[39mself\u001b[39m\u001b[39m.\u001b[39m_timeout_occurred \u001b[39m=\u001b[39m \u001b[39mTrue\u001b[39;00m\n",
      "File \u001b[0;32m/Library/Frameworks/Python.framework/Versions/3.10/lib/python3.10/ssl.py:1273\u001b[0m, in \u001b[0;36mSSLSocket.recv_into\u001b[0;34m(self, buffer, nbytes, flags)\u001b[0m\n\u001b[1;32m   1269\u001b[0m     \u001b[39mif\u001b[39;00m flags \u001b[39m!=\u001b[39m \u001b[39m0\u001b[39m:\n\u001b[1;32m   1270\u001b[0m         \u001b[39mraise\u001b[39;00m \u001b[39mValueError\u001b[39;00m(\n\u001b[1;32m   1271\u001b[0m           \u001b[39m\"\u001b[39m\u001b[39mnon-zero flags not allowed in calls to recv_into() on \u001b[39m\u001b[39m%s\u001b[39;00m\u001b[39m\"\u001b[39m \u001b[39m%\u001b[39m\n\u001b[1;32m   1272\u001b[0m           \u001b[39mself\u001b[39m\u001b[39m.\u001b[39m\u001b[39m__class__\u001b[39m)\n\u001b[0;32m-> 1273\u001b[0m     \u001b[39mreturn\u001b[39;00m \u001b[39mself\u001b[39;49m\u001b[39m.\u001b[39;49mread(nbytes, buffer)\n\u001b[1;32m   1274\u001b[0m \u001b[39melse\u001b[39;00m:\n\u001b[1;32m   1275\u001b[0m     \u001b[39mreturn\u001b[39;00m \u001b[39msuper\u001b[39m()\u001b[39m.\u001b[39mrecv_into(buffer, nbytes, flags)\n",
      "File \u001b[0;32m/Library/Frameworks/Python.framework/Versions/3.10/lib/python3.10/ssl.py:1129\u001b[0m, in \u001b[0;36mSSLSocket.read\u001b[0;34m(self, len, buffer)\u001b[0m\n\u001b[1;32m   1127\u001b[0m \u001b[39mtry\u001b[39;00m:\n\u001b[1;32m   1128\u001b[0m     \u001b[39mif\u001b[39;00m buffer \u001b[39mis\u001b[39;00m \u001b[39mnot\u001b[39;00m \u001b[39mNone\u001b[39;00m:\n\u001b[0;32m-> 1129\u001b[0m         \u001b[39mreturn\u001b[39;00m \u001b[39mself\u001b[39;49m\u001b[39m.\u001b[39;49m_sslobj\u001b[39m.\u001b[39;49mread(\u001b[39mlen\u001b[39;49m, buffer)\n\u001b[1;32m   1130\u001b[0m     \u001b[39melse\u001b[39;00m:\n\u001b[1;32m   1131\u001b[0m         \u001b[39mreturn\u001b[39;00m \u001b[39mself\u001b[39m\u001b[39m.\u001b[39m_sslobj\u001b[39m.\u001b[39mread(\u001b[39mlen\u001b[39m)\n",
      "\u001b[0;31mKeyboardInterrupt\u001b[0m: "
     ]
    }
   ],
   "source": [
    "leverage = 10\n",
    "markets = binance.load_markets()\n",
    "symbol = \"BTC/USDT\"\n",
    "market = binance.market(symbol)\n",
    "resp = binance.fapiPrivate_post_leverage({\n",
    "    'symbol': market['id'],\n",
    "    'leverage': leverage\n",
    "})\n",
    "def buy(Account,price):\n",
    "  Account[\"average_price\"] = ( ( Account[\"amount\"] * Account[\"average_price\"] ) + ( price * 0.01 ) ) / ( Account[\"amount\"] + 0.01 )\n",
    "  Account[\"amount\"] += 0.01\n",
    "  return Account\n",
    "\n",
    "def sell(Account,price):\n",
    "  Account[\"result\"] += (price - Account[\"average_price\"]) * Account[\"amount\"]\n",
    "  Account[\"amount\"] = 0\n",
    "  Account[\"average_price\"] = 0\n",
    "  return Account\n",
    "\n",
    "def info():\n",
    "  balance = binance.fetch_balance(params={\"type\": \"future\"})\n",
    "  Now_price = binance.fetch_ticker(\"BTC/USDT\")[\"close\"]\n",
    "  positions = balance['info']['positions']\n",
    "\n",
    "  for position in positions:\n",
    "      if position[\"symbol\"] == \"BTCUSDT\":\n",
    "          Now_price = float(binance.fetch_ticker(\"BTC/USDT\")[\"close\"])\n",
    "          entry_price = float(position[\"entryPrice\"])\n",
    "          leverage = float(position[\"leverage\"])\n",
    "          Margin = float(position[\"positionInitialMargin\"])\n",
    "          ROE = round((Now_price - entry_price) / Now_price * leverage * 100 ,2)\n",
    "          print(\"현재 코인 가격 :\",Now_price)\n",
    "          print(\"현재 보유 수량 :\",position[\"positionAmt\"]) # 수량\n",
    "          print(\"현재 평단가 :\",position[\"entryPrice\"]) # 진입가격 -> 평단가       \n",
    "          print(\"현재 적용 레버리지 :\",position[\"leverage\"]) # 레버리지\n",
    "          if position[\"positionAmt\"] == 0:\n",
    "            print(\"현재 포지션 수익률 :\",0.0,\"%\")\n",
    "          else:\n",
    "            print(\"현재 포지션 수익률 :\",ROE,\"%\")\n",
    "          print(\"현재 포지션 수익(달러) :\",round(ROE/100 * Margin,2),\"$\")\n",
    "def Re_ROE():\n",
    "  balance = binance.fetch_balance(params={\"type\": \"future\"})\n",
    "  Now_price = binance.fetch_ticker(\"BTC/USDT\")[\"close\"]\n",
    "  positions = balance['info']['positions']\n",
    "  for position in positions:\n",
    "      if position[\"symbol\"] == \"BTCUSDT\":\n",
    "          Now_price = float(binance.fetch_ticker(\"BTC/USDT\")[\"close\"])\n",
    "          entry_price = float(position[\"entryPrice\"])\n",
    "          leverage = float(position[\"leverage\"])\n",
    "          ROE = round((Now_price - entry_price) / Now_price * leverage * 100 ,2)\n",
    "          break\n",
    "  return ROE\n",
    "\n",
    "def Re_Amount():\n",
    "  balance = binance.fetch_balance(params={\"type\": \"future\"})\n",
    "  Now_price = binance.fetch_ticker(\"BTC/USDT\")[\"close\"]\n",
    "  positions = balance['info']['positions']\n",
    "  amount = 0\n",
    "  for position in positions:\n",
    "      if position[\"symbol\"] == \"BTCUSDT\":\n",
    "          amount = position[\"positionAmt\"]\n",
    "          break\n",
    "  return amount\n",
    "def trade():\n",
    "  Account = {\n",
    "    \"result\" : 0,\n",
    "    \"amount\" : 0,\n",
    "    \"average_price\" : 0\n",
    "  }\n",
    "  previous_time = '2018-01-01 00:00:00'\n",
    "  buy_min = -1\n",
    "  while(True):\n",
    "    data = download_data('1m')\n",
    "    df1 = data\n",
    "    df1 = add_rsi(df1)\n",
    "    df1 = add_ma(df1,period=7)\n",
    "    df1 = add_ema(df1,period=7)\n",
    "    df1 = add_ma(df1,period=25)\n",
    "    df1 = add_ema(df1,period=25)\n",
    "    df1 = add_ma(df1,period=99)\n",
    "    df1 = add_ema(df1,period=99)\n",
    "    df1 = add_stochastic(df1)\n",
    "    df1 = add_bb(df1,length=21)\n",
    "    df1 = add_disparity(df1,period=25)\n",
    "    df1 = add_macd(df1)\n",
    "    df1 = add_kdj(df1)\n",
    "    df1 = df1.dropna()\n",
    "\n",
    "\n",
    "    x = df1.iloc[-10:]\n",
    "    pred = model.predict(x)\n",
    "\n",
    "    Trading_Flag = -1\n",
    "\n",
    "    if pred[-1][0] > 0.92:\n",
    "      Trading_Flag = 1\n",
    "    elif pred[-1][0] < 0.1:\n",
    "      Trading_Flag = 0\n",
    "\n",
    "    now = datetime.now()\n",
    "    now_min = now.minute\n",
    "\n",
    "    # 이전과 시간이 다르므로 조건 만족시 구매 \n",
    "    if buy_min != now_min and Trading_Flag == 1:\n",
    "      # order = binance.create_market_buy_order(\n",
    "      # symbol=\"BTC/USDT\",\n",
    "      # amount=0.001)\n",
    "      Account = buy(Account,df1.iloc[-1]['open'])\n",
    "      buy_min = now_min\n",
    "\n",
    "    elif Trading_Flag == 0 and Account[\"amount\"] >= 0.01 and 0.15 * leverage <= Re_ROE():\n",
    "      # order = binance.create_market_sell_order(\n",
    "      # symbol=\"BTC/USDT\",\n",
    "      # amount=float(Re_Amount()) )\n",
    "      Account = sell(Account,df1.iloc[-1]['open'])\n",
    "\n",
    "\n",
    "    print(\"==============================================\")\n",
    "    print(\"현재 time:\",now.strftime('%Y-%m-%d %H:%M:%S'))\n",
    "    info()\n",
    "    print(\"매수매도 시그널(1:매수, 0:매도, -1:관망) :\",Trading_Flag)\n",
    "    print(\"토탈 수익:\",Account[\"result\"])\n",
    "    time.sleep(5)\n",
    "trade()"
   ]
  },
  {
   "cell_type": "code",
   "execution_count": null,
   "metadata": {},
   "outputs": [],
   "source": [
    "balance = binance.fetch_balance(params={\"type\": \"future\"})\n",
    "print(balance['USDT'])"
   ]
  },
  {
   "cell_type": "code",
   "execution_count": null,
   "metadata": {},
   "outputs": [],
   "source": [
    "binance.fetch_ticker(\"BTC/USDT\")"
   ]
  },
  {
   "cell_type": "code",
   "execution_count": null,
   "metadata": {},
   "outputs": [],
   "source": [
    "binance.fetch_ticker(\"BTC/USDT\")[\"close\"]"
   ]
  },
  {
   "cell_type": "code",
   "execution_count": null,
   "metadata": {},
   "outputs": [],
   "source": [
    "import pprint\n",
    "# balance = binance.fetch_balance()\n",
    "positions = balance['info']['positions']"
   ]
  },
  {
   "cell_type": "code",
   "execution_count": null,
   "metadata": {},
   "outputs": [],
   "source": [
    "for position in positions:\n",
    "    if position[\"symbol\"] == \"BTCUSDT\":\n",
    "        Now_price = float(binance.fetch_ticker(\"BTC/USDT\")[\"close\"])\n",
    "        entry_price = float(position[\"entryPrice\"])\n",
    "        leverage = float(position[\"leverage\"])\n",
    "        Margin = float(position[\"positionInitialMargin\"])\n",
    "        ROE = round((Now_price - entry_price) / Now_price * leverage * 100 ,2)\n",
    "        print(position[\"positionAmt\"]) # 수량\n",
    "        print(position[\"entryPrice\"]) # 진입가격 -> 평단가\n",
    "        print(position[\"leverage\"]) # 레버리지\n",
    "        print(ROE,\"%\")\n",
    "        print(round(ROE/100 * Margin,2),\"$\")\n",
    "        pprint.pprint(position)"
   ]
  },
  {
   "cell_type": "code",
   "execution_count": null,
   "metadata": {},
   "outputs": [],
   "source": [
    "# 수량\n",
    "positions"
   ]
  },
  {
   "cell_type": "code",
   "execution_count": 72,
   "metadata": {},
   "outputs": [
    {
     "data": {
      "text/plain": [
       "33"
      ]
     },
     "execution_count": 72,
     "metadata": {},
     "output_type": "execute_result"
    }
   ],
   "source": [
    "from datetime import datetime\n",
    "\n",
    "now = datetime.now()\n",
    "now.minute"
   ]
  },
  {
   "cell_type": "code",
   "execution_count": 1,
   "metadata": {},
   "outputs": [],
   "source": [
    "import pandas as pd"
   ]
  },
  {
   "cell_type": "code",
   "execution_count": 5,
   "metadata": {},
   "outputs": [
    {
     "data": {
      "text/html": [
       "<div>\n",
       "<style scoped>\n",
       "    .dataframe tbody tr th:only-of-type {\n",
       "        vertical-align: middle;\n",
       "    }\n",
       "\n",
       "    .dataframe tbody tr th {\n",
       "        vertical-align: top;\n",
       "    }\n",
       "\n",
       "    .dataframe thead th {\n",
       "        text-align: right;\n",
       "    }\n",
       "</style>\n",
       "<table border=\"1\" class=\"dataframe\">\n",
       "  <thead>\n",
       "    <tr style=\"text-align: right;\">\n",
       "      <th></th>\n",
       "      <th>raw_Time</th>\n",
       "      <th>time</th>\n",
       "      <th>quantity</th>\n",
       "      <th>average</th>\n",
       "      <th>leverage</th>\n",
       "      <th>profit_rate</th>\n",
       "      <th>profit</th>\n",
       "      <th>signal</th>\n",
       "      <th>total_profit</th>\n",
       "    </tr>\n",
       "  </thead>\n",
       "  <tbody>\n",
       "    <tr>\n",
       "      <th>0</th>\n",
       "      <td>1674126878000</td>\n",
       "      <td>2023-01-19 20:14:38</td>\n",
       "      <td>0.0</td>\n",
       "      <td>0.0</td>\n",
       "      <td>0</td>\n",
       "      <td>0.0</td>\n",
       "      <td>0.0</td>\n",
       "      <td>-1</td>\n",
       "      <td>0</td>\n",
       "    </tr>\n",
       "  </tbody>\n",
       "</table>\n",
       "</div>"
      ],
      "text/plain": [
       "        raw_Time                 time  quantity  average  leverage  \\\n",
       "0  1674126878000  2023-01-19 20:14:38       0.0      0.0         0   \n",
       "\n",
       "   profit_rate  profit  signal  total_profit  \n",
       "0          0.0     0.0      -1             0  "
      ]
     },
     "execution_count": 5,
     "metadata": {},
     "output_type": "execute_result"
    }
   ],
   "source": [
    "data = pd.read_csv(\"Data/TradingData.csv\").drop(['Unnamed: 0'],axis = 1)\n",
    "data"
   ]
  },
  {
   "cell_type": "code",
   "execution_count": 13,
   "metadata": {},
   "outputs": [
    {
     "data": {
      "text/plain": [
       "{'raw_Time': '1674126878000',\n",
       " 'time': '2023-01-19 20:14:38',\n",
       " 'quantity': '0.0',\n",
       " 'average': '0.0',\n",
       " 'leverage': '0',\n",
       " 'profit_rate': '0.0',\n",
       " 'profit': '0.0',\n",
       " 'signal': '-1',\n",
       " 'total_profit': '0'}"
      ]
     },
     "execution_count": 13,
     "metadata": {},
     "output_type": "execute_result"
    }
   ],
   "source": [
    "result = {}\n",
    "for i in data.columns:\n",
    "    result[i] = str(data[i].iloc[0])\n",
    "result"
   ]
  },
  {
   "cell_type": "code",
   "execution_count": 14,
   "metadata": {},
   "outputs": [
    {
     "data": {
      "text/plain": [
       "'{\"raw_Time\": \"1674126878000\", \"time\": \"2023-01-19 20:14:38\", \"quantity\": \"0.0\", \"average\": \"0.0\", \"leverage\": \"0\", \"profit_rate\": \"0.0\", \"profit\": \"0.0\", \"signal\": \"-1\", \"total_profit\": \"0\"}'"
      ]
     },
     "execution_count": 14,
     "metadata": {},
     "output_type": "execute_result"
    }
   ],
   "source": [
    "import json\n",
    "json.dumps(result)"
   ]
  },
  {
   "cell_type": "code",
   "execution_count": 7,
   "metadata": {},
   "outputs": [
    {
     "name": "stdout",
     "output_type": "stream",
     "text": [
      "{'free': 111.2770928, 'used': 2.07249, 'total': 113.34069936}\n"
     ]
    }
   ],
   "source": [
    "# binance 객체 생성\n",
    "binance = ccxt.binance(config={\n",
    "    'apiKey': \"598lqCWX727NXfflVt1qejRSZXphSuWVlcdMm1gdtAVD3lytdDhjpbV3eyxcr0z1\",\n",
    "    'secret': \"XxDx9DuVDiYngMV71jWHHCFYRhhph4bdZdGCSH4JVb2s2jCJtHW6gbpPwZWjfYvf\",\n",
    "})\n",
    "\n",
    "# USDT의 잔고 조회\n",
    "balance = binance.fetch_balance(params={\"type\": \"future\"})\n",
    "print(balance['USDT'])"
   ]
  },
  {
   "cell_type": "code",
   "execution_count": null,
   "metadata": {},
   "outputs": [],
   "source": []
  },
  {
   "cell_type": "code",
   "execution_count": 8,
   "metadata": {},
   "outputs": [
    {
     "data": {
      "text/plain": [
       "2.07249"
      ]
     },
     "execution_count": 8,
     "metadata": {},
     "output_type": "execute_result"
    }
   ],
   "source": [
    "balance['USDT']['used']"
   ]
  },
  {
   "cell_type": "code",
   "execution_count": null,
   "metadata": {},
   "outputs": [],
   "source": []
  }
 ],
 "metadata": {
  "kernelspec": {
   "display_name": "Python 3",
   "language": "python",
   "name": "python3"
  },
  "language_info": {
   "codemirror_mode": {
    "name": "ipython",
    "version": 3
   },
   "file_extension": ".py",
   "mimetype": "text/x-python",
   "name": "python",
   "nbconvert_exporter": "python",
   "pygments_lexer": "ipython3",
   "version": "3.10.0"
  },
  "orig_nbformat": 4,
  "vscode": {
   "interpreter": {
    "hash": "aee8b7b246df8f9039afb4144a1f6fd8d2ca17a180786b69acc140d282b71a49"
   }
  }
 },
 "nbformat": 4,
 "nbformat_minor": 2
}
