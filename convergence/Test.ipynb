{
 "cells": [
  {
   "cell_type": "code",
   "execution_count": 2,
   "metadata": {},
   "outputs": [],
   "source": [
    "import sklearn\n",
    "import numpy as np\n",
    "import pandas as pd\n",
    "import seaborn as sns\n",
    "import matplotlib.pyplot as plt"
   ]
  },
  {
   "cell_type": "code",
   "execution_count": 3,
   "metadata": {},
   "outputs": [
    {
     "data": {
      "text/html": [
       "<div>\n",
       "<style scoped>\n",
       "    .dataframe tbody tr th:only-of-type {\n",
       "        vertical-align: middle;\n",
       "    }\n",
       "\n",
       "    .dataframe tbody tr th {\n",
       "        vertical-align: top;\n",
       "    }\n",
       "\n",
       "    .dataframe thead th {\n",
       "        text-align: right;\n",
       "    }\n",
       "</style>\n",
       "<table border=\"1\" class=\"dataframe\">\n",
       "  <thead>\n",
       "    <tr style=\"text-align: right;\">\n",
       "      <th></th>\n",
       "      <th>Unnamed: 0</th>\n",
       "      <th>datetime</th>\n",
       "      <th>open</th>\n",
       "      <th>high</th>\n",
       "      <th>low</th>\n",
       "      <th>close</th>\n",
       "      <th>volume</th>\n",
       "    </tr>\n",
       "  </thead>\n",
       "  <tbody>\n",
       "    <tr>\n",
       "      <th>0</th>\n",
       "      <td>0</td>\n",
       "      <td>2018-01-01</td>\n",
       "      <td>733.01</td>\n",
       "      <td>763.55</td>\n",
       "      <td>716.80</td>\n",
       "      <td>754.99</td>\n",
       "      <td>53909.25885</td>\n",
       "    </tr>\n",
       "    <tr>\n",
       "      <th>1</th>\n",
       "      <td>1</td>\n",
       "      <td>2018-01-02</td>\n",
       "      <td>754.99</td>\n",
       "      <td>899.50</td>\n",
       "      <td>749.06</td>\n",
       "      <td>855.28</td>\n",
       "      <td>113257.78355</td>\n",
       "    </tr>\n",
       "    <tr>\n",
       "      <th>2</th>\n",
       "      <td>2</td>\n",
       "      <td>2018-01-03</td>\n",
       "      <td>855.13</td>\n",
       "      <td>950.01</td>\n",
       "      <td>810.00</td>\n",
       "      <td>934.03</td>\n",
       "      <td>89041.45688</td>\n",
       "    </tr>\n",
       "    <tr>\n",
       "      <th>3</th>\n",
       "      <td>3</td>\n",
       "      <td>2018-01-04</td>\n",
       "      <td>934.03</td>\n",
       "      <td>1009.72</td>\n",
       "      <td>890.01</td>\n",
       "      <td>940.00</td>\n",
       "      <td>102894.47384</td>\n",
       "    </tr>\n",
       "    <tr>\n",
       "      <th>4</th>\n",
       "      <td>4</td>\n",
       "      <td>2018-01-05</td>\n",
       "      <td>940.00</td>\n",
       "      <td>1045.00</td>\n",
       "      <td>930.00</td>\n",
       "      <td>959.30</td>\n",
       "      <td>97374.01630</td>\n",
       "    </tr>\n",
       "  </tbody>\n",
       "</table>\n",
       "</div>"
      ],
      "text/plain": [
       "   Unnamed: 0    datetime    open     high     low   close        volume\n",
       "0           0  2018-01-01  733.01   763.55  716.80  754.99   53909.25885\n",
       "1           1  2018-01-02  754.99   899.50  749.06  855.28  113257.78355\n",
       "2           2  2018-01-03  855.13   950.01  810.00  934.03   89041.45688\n",
       "3           3  2018-01-04  934.03  1009.72  890.01  940.00  102894.47384\n",
       "4           4  2018-01-05  940.00  1045.00  930.00  959.30   97374.01630"
      ]
     },
     "execution_count": 3,
     "metadata": {},
     "output_type": "execute_result"
    }
   ],
   "source": [
    "data = pd.read_csv(\"../convergence/Temp/Data/ETH_USDT_1d.csv\")\n",
    "data.head()"
   ]
  },
  {
   "cell_type": "code",
   "execution_count": 6,
   "metadata": {},
   "outputs": [],
   "source": [
    "from sklearn.preprocessing import MinMaxScaler\n",
    "def MinMaxScaling():\n",
    "    mms = MinMaxScaler()\n",
    "    try:\n",
    "        mms.fit(data)\n",
    "        scaled_data = mms.transform(data)\n",
    "        scaled_data = pd.DataFrame(data = scaled_data, columns=data.columns)\n",
    "    except ValueError:\n",
    "        data = data.set_index(\"datetime\")\n",
    "        mms.fit(data)\n",
    "        scaled_data = mms.transform(data)\n",
    "        scaled_data = pd.DataFrame(data = scaled_data, columns=data.columns)"
   ]
  },
  {
   "cell_type": "code",
   "execution_count": null,
   "metadata": {},
   "outputs": [],
   "source": []
  }
 ],
 "metadata": {
  "kernelspec": {
   "display_name": "Python 3",
   "language": "python",
   "name": "python3"
  },
  "language_info": {
   "codemirror_mode": {
    "name": "ipython",
    "version": 3
   },
   "file_extension": ".py",
   "mimetype": "text/x-python",
   "name": "python",
   "nbconvert_exporter": "python",
   "pygments_lexer": "ipython3",
   "version": "3.10.0 (v3.10.0:b494f5935c, Oct  4 2021, 14:59:20) [Clang 12.0.5 (clang-1205.0.22.11)]"
  },
  "orig_nbformat": 4,
  "vscode": {
   "interpreter": {
    "hash": "aee8b7b246df8f9039afb4144a1f6fd8d2ca17a180786b69acc140d282b71a49"
   }
  }
 },
 "nbformat": 4,
 "nbformat_minor": 2
}
